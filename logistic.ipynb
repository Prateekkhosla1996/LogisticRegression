{
 "cells": [
  {
   "cell_type": "code",
   "execution_count": 11,
   "metadata": {},
   "outputs": [
    {
     "name": "stderr",
     "output_type": "stream",
     "text": [
      "C:\\Users\\prate\\Anaconda3\\lib\\site-packages\\sklearn\\linear_model\\logistic.py:433: FutureWarning: Default solver will be changed to 'lbfgs' in 0.22. Specify a solver to silence this warning.\n",
      "  FutureWarning)\n"
     ]
    },
    {
     "data": {
      "text/plain": [
       "<bound method ClassifierMixin.score of LogisticRegression(C=0.07, class_weight=None, dual=False, fit_intercept=True,\n",
       "          intercept_scaling=1, max_iter=100, multi_class='warn',\n",
       "          n_jobs=None, penalty='l2', random_state=None, solver='warn',\n",
       "          tol=0.0001, verbose=0, warm_start=False)>"
      ]
     },
     "execution_count": 11,
     "metadata": {},
     "output_type": "execute_result"
    }
   ],
   "source": [
    "import numpy as np\n",
    "import pandas as pd\n",
    "import matplotlib.pyplot as plt\n",
    "\n",
    "data=pd.read_csv('training_titanic_x_y_train.csv',delimiter=',')\n",
    "data.Age.fillna(data.Age.mean(),inplace=True)\n",
    "new_data=pd.get_dummies(data,columns=['Sex','Embarked','Pclass'])\n",
    "new_data=new_data.drop(['Name','Ticket','Cabin'], axis=1)\n",
    "new_data['survived']=new_data['Survived']\n",
    "del new_data['Survived']\n",
    "z=np.array(new_data)\n",
    "x_train=z[:,:-1]\n",
    "y_train=z[:,-1]\n",
    "b=pd.read_csv('test_titanic_x_test.csv',delimiter=',')\n",
    "b.Age.fillna(b.Age.mean(),inplace=True)\n",
    "new_x=pd.get_dummies(b,columns=['Sex','Embarked','Pclass'])\n",
    "new_x=new_x.drop(['Name','Ticket','Cabin'], axis=1)\n",
    "x_test=np.array(new_x)\n",
    "\n",
    "from sklearn.linear_model import LogisticRegression\n",
    "\n",
    "clf=LogisticRegression(C=0.07)\n",
    "clf.fit(x_train,y_train)\n",
    "y_pred=clf.predict(x_test) \n",
    "y=np.array(y_pred)\n",
    "#y_test_pred=np.around(y,decimals=5)\n",
    "np.savetxt(\"again.csv\",y_pred,fmt=\"%d\")\n",
    "\n",
    "#plt.scatter(y_pred,y_train.reshape(-1,1))\n",
    "#plt.show\n",
    "clf.score"
   ]
  }
 ],
 "metadata": {
  "kernelspec": {
   "display_name": "Python 3",
   "language": "python",
   "name": "python3"
  },
  "language_info": {
   "codemirror_mode": {
    "name": "ipython",
    "version": 3
   },
   "file_extension": ".py",
   "mimetype": "text/x-python",
   "name": "python",
   "nbconvert_exporter": "python",
   "pygments_lexer": "ipython3",
   "version": "3.7.1"
  }
 },
 "nbformat": 4,
 "nbformat_minor": 2
}
